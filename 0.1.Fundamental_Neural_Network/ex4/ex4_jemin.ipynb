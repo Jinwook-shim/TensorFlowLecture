{
 "cells": [
  {
   "cell_type": "markdown",
   "metadata": {},
   "source": [
    "## Programming Exercise 4: Neural Networks Learning"
   ]
  },
  {
   "cell_type": "code",
   "execution_count": 2,
   "metadata": {
    "collapsed": false
   },
   "outputs": [],
   "source": [
    "%matplotlib inline\n",
    "import numpy as np\n",
    "import matplotlib.pyplot as plt\n",
    "import pandas as pd\n",
    "import scipy.io #Used to load the OCTAVE *.mat files\n",
    "import scipy.misc #Used to show matrix as an image\n",
    "#import scipy.misc.toimage #scipy.misc.toimage\n",
    "import matplotlib.cm as cm #Used to display images in a specific colormap\n",
    "import random #To pick random images to display\n",
    "import scipy.optimize #fmin_cg to train neural network\n",
    "import itertools\n",
    "from scipy.special import expit #Vectorized sigmoid function"
   ]
  },
  {
   "cell_type": "markdown",
   "metadata": {},
   "source": [
    "### 1 Neural Networks"
   ]
  },
  {
   "cell_type": "markdown",
   "metadata": {},
   "source": [
    "#### 1.1 Visualizing the data"
   ]
  },
  {
   "cell_type": "code",
   "execution_count": 3,
   "metadata": {
    "collapsed": false,
    "scrolled": true
   },
   "outputs": [
    {
     "name": "stdout",
     "output_type": "stream",
     "text": [
      "'y' shape: (5000, 1). Unique elements in y: [ 1  2  3  4  5  6  7  8  9 10]\n",
      "'X' shape: (5000, 401). X[0] shape: (401,)\n"
     ]
    }
   ],
   "source": [
    "datafile = 'data/ex4data1.mat'\n",
    "mat = scipy.io.loadmat( datafile )\n",
    "X, y = mat['X'], mat['y']\n",
    "X = np.insert(X,0,1,axis=1)\n",
    "print (\"'y' shape: %s. Unique elements in y: %s\"%(mat['y'].shape,np.unique(mat['y'])))\n",
    "print (\"'X' shape: %s. X[0] shape: %s\"%(X.shape,X[0].shape))"
   ]
  },
  {
   "cell_type": "code",
   "execution_count": 4,
   "metadata": {
    "collapsed": false
   },
   "outputs": [
    {
     "data": {
      "text/plain": [
       "array([10, 10, 10, 10, 10, 10, 10, 10, 10], dtype=uint8)"
      ]
     },
     "execution_count": 4,
     "metadata": {},
     "output_type": "execute_result"
    }
   ],
   "source": [
    "y[1:10,0]"
   ]
  },
  {
   "cell_type": "code",
   "execution_count": 3,
   "metadata": {
    "collapsed": false
   },
   "outputs": [
    {
     "data": {
      "text/plain": [
       "array([[  0.00000000e+00,   0.00000000e+00,   0.00000000e+00,\n",
       "          0.00000000e+00,   0.00000000e+00,   0.00000000e+00,\n",
       "          0.00000000e+00,   0.00000000e+00,   0.00000000e+00,\n",
       "          0.00000000e+00,   0.00000000e+00,   0.00000000e+00,\n",
       "          0.00000000e+00,   0.00000000e+00,   0.00000000e+00,\n",
       "          0.00000000e+00,   0.00000000e+00,   0.00000000e+00,\n",
       "          0.00000000e+00,   0.00000000e+00],\n",
       "       [  0.00000000e+00,   0.00000000e+00,   0.00000000e+00,\n",
       "          0.00000000e+00,   0.00000000e+00,   0.00000000e+00,\n",
       "          0.00000000e+00,   0.00000000e+00,   0.00000000e+00,\n",
       "          0.00000000e+00,   0.00000000e+00,   0.00000000e+00,\n",
       "          0.00000000e+00,   0.00000000e+00,   0.00000000e+00,\n",
       "          0.00000000e+00,   0.00000000e+00,   0.00000000e+00,\n",
       "          0.00000000e+00,   0.00000000e+00],\n",
       "       [  0.00000000e+00,   0.00000000e+00,   0.00000000e+00,\n",
       "          0.00000000e+00,   0.00000000e+00,   0.00000000e+00,\n",
       "          0.00000000e+00,   0.00000000e+00,   0.00000000e+00,\n",
       "          0.00000000e+00,   0.00000000e+00,   0.00000000e+00,\n",
       "          0.00000000e+00,   0.00000000e+00,   0.00000000e+00,\n",
       "          0.00000000e+00,   0.00000000e+00,   0.00000000e+00,\n",
       "          0.00000000e+00,   0.00000000e+00],\n",
       "       [  0.00000000e+00,   0.00000000e+00,   0.00000000e+00,\n",
       "          0.00000000e+00,   0.00000000e+00,   0.00000000e+00,\n",
       "          0.00000000e+00,   8.56059680e-06,   1.94035948e-06,\n",
       "         -7.37438725e-04,  -8.13403799e-03,  -1.86104473e-02,\n",
       "         -1.87412865e-02,  -1.87572508e-02,  -1.90963542e-02,\n",
       "         -1.64039011e-02,  -3.78191381e-03,   3.30347316e-04,\n",
       "          1.27655229e-05,   0.00000000e+00],\n",
       "       [  0.00000000e+00,   0.00000000e+00,   0.00000000e+00,\n",
       "          0.00000000e+00,   0.00000000e+00,   0.00000000e+00,\n",
       "          1.16421569e-04,   1.20052179e-04,  -1.40444581e-02,\n",
       "         -2.84542484e-02,   8.03826593e-02,   2.66540339e-01,\n",
       "          2.73853746e-01,   2.78729541e-01,   2.74293607e-01,\n",
       "          2.24676403e-01,   2.77562977e-02,  -7.06315478e-03,\n",
       "          2.34715414e-04,   0.00000000e+00],\n",
       "       [  0.00000000e+00,   0.00000000e+00,   0.00000000e+00,\n",
       "          0.00000000e+00,   0.00000000e+00,   1.28335523e-17,\n",
       "         -3.26286765e-04,  -1.38651604e-02,   8.15651552e-02,\n",
       "          3.82800381e-01,   8.57849775e-01,   1.00109761e+00,\n",
       "          9.69710638e-01,   9.30928598e-01,   1.00383757e+00,\n",
       "          9.64157356e-01,   4.49256553e-01,  -5.60408259e-03,\n",
       "         -3.78319036e-03,   0.00000000e+00],\n",
       "       [  0.00000000e+00,   0.00000000e+00,   0.00000000e+00,\n",
       "          5.10620915e-06,   4.36410675e-04,  -3.95509940e-03,\n",
       "         -2.68537241e-02,   1.00755014e-01,   6.42031710e-01,\n",
       "          1.03136838e+00,   8.50968614e-01,   5.43122379e-01,\n",
       "          3.42599738e-01,   2.68918777e-01,   6.68374643e-01,\n",
       "          1.01256958e+00,   9.03795598e-01,   1.04481574e-01,\n",
       "         -1.66424973e-02,   0.00000000e+00],\n",
       "       [  0.00000000e+00,   0.00000000e+00,   0.00000000e+00,\n",
       "          2.59875260e-05,  -3.10606987e-03,   7.52456076e-03,\n",
       "          1.77539831e-01,   7.92890120e-01,   9.65626503e-01,\n",
       "          4.63166079e-01,   6.91720680e-02,  -3.64100526e-03,\n",
       "         -4.12180405e-02,  -5.01900656e-02,   1.56102907e-01,\n",
       "          9.01762651e-01,   1.04748346e+00,   1.51055252e-01,\n",
       "         -2.16044665e-02,   0.00000000e+00],\n",
       "       [  0.00000000e+00,   0.00000000e+00,   5.87012352e-05,\n",
       "         -6.40931373e-04,  -3.23305249e-02,   2.78203465e-01,\n",
       "          9.36720163e-01,   1.04320956e+00,   5.98003217e-01,\n",
       "         -3.59409041e-03,  -2.16751770e-02,  -4.81021923e-03,\n",
       "          6.16566793e-05,  -1.23773318e-02,   1.55477482e-01,\n",
       "          9.14867477e-01,   9.20401348e-01,   1.09173902e-01,\n",
       "         -1.71058007e-02,   0.00000000e+00],\n",
       "       [  0.00000000e+00,   1.56250000e-04,  -4.27724104e-04,\n",
       "         -2.51466503e-02,   1.30532561e-01,   7.81664862e-01,\n",
       "          1.02836583e+00,   7.57137601e-01,   2.84667194e-01,\n",
       "          4.86865128e-03,  -3.18688725e-03,   0.00000000e+00,\n",
       "          8.36492601e-04,  -3.70751123e-02,   4.52644165e-01,\n",
       "          1.03180133e+00,   5.39028101e-01,  -2.43742611e-03,\n",
       "         -4.80290033e-03,   0.00000000e+00],\n",
       "       [  0.00000000e+00,  -7.03635621e-04,  -1.27262443e-02,\n",
       "          1.61706648e-01,   7.79865383e-01,   1.03676705e+00,\n",
       "          8.04490400e-01,   1.60586724e-01,  -1.38173339e-02,\n",
       "          2.14879493e-03,  -2.12622549e-04,   2.04248366e-04,\n",
       "         -6.85907627e-03,   4.31712963e-04,   7.20680947e-01,\n",
       "          8.48136063e-01,   1.51383408e-01,  -2.28404366e-02,\n",
       "          1.98971950e-04,   0.00000000e+00],\n",
       "       [  0.00000000e+00,  -9.40410539e-03,   3.74520505e-02,\n",
       "          6.94389110e-01,   1.02844844e+00,   1.01648066e+00,\n",
       "          8.80488426e-01,   3.92123945e-01,  -1.74122413e-02,\n",
       "         -1.20098039e-04,   5.55215142e-05,  -2.23907271e-03,\n",
       "         -2.76068376e-02,   3.68645493e-01,   9.36411169e-01,\n",
       "          4.59006723e-01,  -4.24701797e-02,   1.17356610e-03,\n",
       "          1.88929739e-05,   0.00000000e+00],\n",
       "       [  0.00000000e+00,  -1.93511951e-02,   1.29999794e-01,\n",
       "          9.79821705e-01,   9.41862388e-01,   7.75147704e-01,\n",
       "          8.73632241e-01,   2.12778350e-01,  -1.72353349e-02,\n",
       "          0.00000000e+00,   1.09937426e-03,  -2.61793751e-02,\n",
       "          1.22872879e-01,   8.30812662e-01,   7.26501773e-01,\n",
       "          5.24441863e-02,  -6.18971913e-03,   0.00000000e+00,\n",
       "          0.00000000e+00,   0.00000000e+00],\n",
       "       [  0.00000000e+00,  -9.36563862e-03,   3.68349741e-02,\n",
       "          6.99079299e-01,   1.00293583e+00,   6.05704402e-01,\n",
       "          3.27299224e-01,  -3.22099249e-02,  -4.83053002e-02,\n",
       "         -4.34069138e-02,  -5.75151144e-02,   9.55674190e-02,\n",
       "          7.26512627e-01,   6.95366966e-01,   1.47114481e-01,\n",
       "         -1.20048679e-02,  -3.02798203e-04,   0.00000000e+00,\n",
       "          0.00000000e+00,   0.00000000e+00],\n",
       "       [  0.00000000e+00,  -6.76572712e-04,  -6.51415556e-03,\n",
       "          1.17339359e-01,   4.21948410e-01,   9.93210937e-01,\n",
       "          8.82013974e-01,   7.45758734e-01,   7.23874268e-01,\n",
       "          7.23341725e-01,   7.20020340e-01,   8.45324959e-01,\n",
       "          8.31859739e-01,   6.88831870e-02,  -2.77765012e-02,\n",
       "          3.59136710e-04,   7.14869281e-05,   0.00000000e+00,\n",
       "          0.00000000e+00,   0.00000000e+00],\n",
       "       [  0.00000000e+00,   1.53186275e-04,   3.17353553e-04,\n",
       "         -2.29167177e-02,  -4.14402914e-03,   3.87038450e-01,\n",
       "          5.04583435e-01,   7.74885876e-01,   9.90037446e-01,\n",
       "          1.00769478e+00,   1.00851440e+00,   7.37905042e-01,\n",
       "          2.15455291e-01,  -2.69624864e-02,   1.32506127e-03,\n",
       "          0.00000000e+00,   0.00000000e+00,   0.00000000e+00,\n",
       "          0.00000000e+00,   0.00000000e+00],\n",
       "       [  0.00000000e+00,   0.00000000e+00,   0.00000000e+00,\n",
       "          2.36366422e-04,  -2.26031454e-03,  -2.51994485e-02,\n",
       "         -3.73889910e-02,   6.62121228e-02,   2.91134498e-01,\n",
       "          3.23055726e-01,   3.06260315e-01,   8.76070942e-02,\n",
       "         -2.50581917e-02,   2.37438725e-04,   0.00000000e+00,\n",
       "          0.00000000e+00,   0.00000000e+00,   0.00000000e+00,\n",
       "          0.00000000e+00,   0.00000000e+00],\n",
       "       [  0.00000000e+00,   0.00000000e+00,   0.00000000e+00,\n",
       "          0.00000000e+00,   0.00000000e+00,   6.20939216e-18,\n",
       "          6.72618320e-04,  -1.13151411e-02,  -3.54641066e-02,\n",
       "         -3.88214912e-02,  -3.71077412e-02,  -1.33524928e-02,\n",
       "          9.90964718e-04,   4.89176960e-05,   0.00000000e+00,\n",
       "          0.00000000e+00,   0.00000000e+00,   0.00000000e+00,\n",
       "          0.00000000e+00,   0.00000000e+00],\n",
       "       [  0.00000000e+00,   0.00000000e+00,   0.00000000e+00,\n",
       "          0.00000000e+00,   0.00000000e+00,   0.00000000e+00,\n",
       "          0.00000000e+00,   0.00000000e+00,   0.00000000e+00,\n",
       "          0.00000000e+00,   0.00000000e+00,   0.00000000e+00,\n",
       "          0.00000000e+00,   0.00000000e+00,   0.00000000e+00,\n",
       "          0.00000000e+00,   0.00000000e+00,   0.00000000e+00,\n",
       "          0.00000000e+00,   0.00000000e+00],\n",
       "       [  0.00000000e+00,   0.00000000e+00,   0.00000000e+00,\n",
       "          0.00000000e+00,   0.00000000e+00,   0.00000000e+00,\n",
       "          0.00000000e+00,   0.00000000e+00,   0.00000000e+00,\n",
       "          0.00000000e+00,   0.00000000e+00,   0.00000000e+00,\n",
       "          0.00000000e+00,   0.00000000e+00,   0.00000000e+00,\n",
       "          0.00000000e+00,   0.00000000e+00,   0.00000000e+00,\n",
       "          0.00000000e+00,   0.00000000e+00]])"
      ]
     },
     "execution_count": 3,
     "metadata": {},
     "output_type": "execute_result"
    }
   ],
   "source": [
    "mat['X'][0].reshape(20,20)"
   ]
  },
  {
   "cell_type": "code",
   "execution_count": 4,
   "metadata": {
    "collapsed": false,
    "scrolled": false
   },
   "outputs": [
    {
     "data": {
      "text/plain": [
       "400"
      ]
     },
     "execution_count": 4,
     "metadata": {},
     "output_type": "execute_result"
    }
   ],
   "source": [
    "len(X[0][1:])"
   ]
  },
  {
   "cell_type": "code",
   "execution_count": 5,
   "metadata": {
    "collapsed": false
   },
   "outputs": [
    {
     "data": {
      "text/plain": [
       "399"
      ]
     },
     "execution_count": 5,
     "metadata": {},
     "output_type": "execute_result"
    }
   ],
   "source": [
    "len(X[0][2:])"
   ]
  },
  {
   "cell_type": "code",
   "execution_count": 5,
   "metadata": {
    "collapsed": false
   },
   "outputs": [
    {
     "name": "stdout",
     "output_type": "stream",
     "text": [
      "[[  1 500]\n",
      " [  2 500]\n",
      " [  3 500]\n",
      " [  4 500]\n",
      " [  5 500]\n",
      " [  6 500]\n",
      " [  7 500]\n",
      " [  8 500]\n",
      " [  9 500]\n",
      " [ 10 500]]\n"
     ]
    }
   ],
   "source": [
    "unique, counts = np.unique(y, return_counts=True)\n",
    "print (np.asarray((unique, counts)).T)"
   ]
  },
  {
   "cell_type": "code",
   "execution_count": 6,
   "metadata": {
    "collapsed": false
   },
   "outputs": [],
   "source": [
    "def getDatumImg(row):\n",
    "    \"\"\"\n",
    "    Function that is handed a single np array with shape 1x400,\n",
    "    crates an image object from it, and returns it\n",
    "    \"\"\"\n",
    "    width, height = 20, 20\n",
    "    square = row[1:].reshape(width,height)\n",
    "    return square.T\n",
    "    \n",
    "def displayData(indices_to_display = None):\n",
    "    \"\"\"\n",
    "    Function that picks 100 random rows from X, creates a 20x20 image from each,\n",
    "    then stitches them together into a 10x10 grid of images, and shows it.\n",
    "    \"\"\"\n",
    "    width, height = 20, 20\n",
    "    nrows, ncols = 10, 10\n",
    "    if not indices_to_display:\n",
    "        indices_to_display = random.sample(range(X.shape[0]), nrows*ncols)\n",
    "        \n",
    "    big_picture = np.zeros((height*nrows,width*ncols))\n",
    "    \n",
    "    irow, icol = 0, 0\n",
    "    for idx in indices_to_display:\n",
    "        if icol == ncols:\n",
    "            irow += 1\n",
    "            icol  = 0\n",
    "        iimg = getDatumImg(X[idx])\n",
    "        big_picture[irow*height:irow*height+iimg.shape[0],icol*width:icol*width+iimg.shape[1]] = iimg\n",
    "        icol += 1\n",
    "    fig = plt.figure(figsize=(6,6))\n",
    "    img = scipy.misc.toimage( big_picture )\n",
    "    plt.imshow(img,cmap = cm.Greys_r)"
   ]
  },
  {
   "cell_type": "code",
   "execution_count": 10,
   "metadata": {
    "collapsed": false
   },
   "outputs": [
    {
     "data": {
      "text/plain": [
       "<matplotlib.image.AxesImage at 0x7fee2d061710>"
      ]
     },
     "execution_count": 10,
     "metadata": {},
     "output_type": "execute_result"
    },
    {
     "data": {
      "image/png": "[encoded data removed]",
      "text/plain": [
       "<matplotlib.figure.Figure at 0x7fee2d0f33c8>"
      ]
     },
     "metadata": {},
     "output_type": "display_data"
    }
   ],
   "source": [
    "plt.imshow(getDatumImg(X[300]),cmap=cm.Greys_r)"
   ]
  },
  {
   "cell_type": "code",
   "execution_count": 11,
   "metadata": {
    "collapsed": false
   },
   "outputs": [
    {
     "data": {
      "image/png": "[encoded data removed]",
      "text/plain": [
       "<matplotlib.figure.Figure at 0x7fee2d08f518>"
      ]
     },
     "metadata": {},
     "output_type": "display_data"
    }
   ],
   "source": [
    "displayData()"
   ]
  },
  {
   "cell_type": "markdown",
   "metadata": {},
   "source": [
    "#### 1.2 Model representation"
   ]
  },
  {
   "cell_type": "markdown",
   "metadata": {},
   "source": [
    "![](https://camo.githubusercontent.com/e1e638bc1cc37d2ee7465a475ffb7614eb486f0d/687474703a2f2f692e696d6775722e636f6d2f794a4a466d45582e6a7067)\n",
    "\n",
    "- $\\theta_1$ has size `25 x 401`\n",
    "- $\\theta_2$ has size `10 x 26`\n",
    "- `X` has size `5000 x 401`\n",
    "- `Y` has size `5000 x 1`"
   ]
  },
  {
   "cell_type": "code",
   "execution_count": 12,
   "metadata": {
    "collapsed": false
   },
   "outputs": [],
   "source": [
    "#You have been provided with a set of network parameters (Θ(1),Θ(2)) \n",
    "#already trained by us. These are stored in ex4weights.mat\n",
    "datafile = 'data/ex4weights.mat'\n",
    "mat = scipy.io.loadmat( datafile )\n",
    "Theta1, Theta2 = mat['Theta1'], mat['Theta2']\n",
    "# The matrices Theta1 and Theta2 will now be in your workspace\n",
    "# Theta1 has size 25 x 401\n",
    "# Theta2 has size 10 x 26"
   ]
  },
  {
   "cell_type": "code",
   "execution_count": 13,
   "metadata": {
    "collapsed": false
   },
   "outputs": [
    {
     "data": {
      "text/plain": [
       "(25, 401)"
      ]
     },
     "execution_count": 13,
     "metadata": {},
     "output_type": "execute_result"
    }
   ],
   "source": [
    "Theta1.shape"
   ]
  },
  {
   "cell_type": "code",
   "execution_count": 14,
   "metadata": {
    "collapsed": false
   },
   "outputs": [
    {
     "data": {
      "text/plain": [
       "(10, 26)"
      ]
     },
     "execution_count": 14,
     "metadata": {},
     "output_type": "execute_result"
    }
   ],
   "source": [
    "Theta2.shape"
   ]
  },
  {
   "cell_type": "code",
   "execution_count": 15,
   "metadata": {
    "collapsed": false
   },
   "outputs": [],
   "source": [
    "#바이어스가 없는 각각의 레이어 사이즈를 의미한다.\n",
    "input_layer_size = 400\n",
    "hidden_layer_size = 25\n",
    "output_layer_size = 10 \n",
    "n_training_samples = X.shape[0]"
   ]
  },
  {
   "cell_type": "code",
   "execution_count": 16,
   "metadata": {
    "collapsed": false,
    "scrolled": true
   },
   "outputs": [],
   "source": [
    "# fmin_cg의 속도를 위해서 flatten을 수행 한다.\n",
    "\n",
    "def flattenParams(thetas_list):\n",
    "    \"\"\"\n",
    "    들어온 list에 저장된 matrix를 평평한 n by 1 matrix로 변경 한다.\n",
    "    myThetas가 아래와 같이 2개의 theta에 대해서 저장하고 있다면 1개의 flatten한 matrix를 반환하게 된다.\n",
    "    [25x401 + 10x26] = [10285]\n",
    "    \"\"\"\n",
    "    flattened_list = [ mytheta.flatten() for mytheta in thetas_list ]\n",
    "    \n",
    "    combined = list(itertools.chain.from_iterable(flattened_list))\n",
    "    assert len(combined) == (input_layer_size+1)*hidden_layer_size + \\\n",
    "                            (hidden_layer_size+1)*output_layer_size\n",
    "    return np.array(combined).reshape((len(combined),1))\n",
    "\n",
    "def reshapeParams(flattened_array):\n",
    "    # flatten하게 만든 theta를 복구 하는 것이다. \n",
    "    theta1 = flattened_array[:(input_layer_size+1)*hidden_layer_size] \\\n",
    "            .reshape((hidden_layer_size,input_layer_size+1))\n",
    "        \n",
    "    theta2 = flattened_array[(input_layer_size+1)*hidden_layer_size:] \\\n",
    "            .reshape((output_layer_size,hidden_layer_size+1))\n",
    "    \n",
    "    return [ theta1, theta2 ]\n",
    "\n",
    "def flattenX(myX):\n",
    "    return np.array(myX.flatten()).reshape((n_training_samples*(input_layer_size+1),1))\n",
    "\n",
    "def reshapeX(flattenedX):\n",
    "    return np.array(flattenedX).reshape((n_training_samples,input_layer_size+1))"
   ]
  },
  {
   "cell_type": "markdown",
   "metadata": {},
   "source": [
    "#### 1.3 Feedforward and cost function"
   ]
  },
  {
   "cell_type": "markdown",
   "metadata": {},
   "source": [
    "**Cost Function**\n",
    "$$J(\\theta) = \\frac{1}{m}\\sum_{i=1}^{m}\\sum_{k=1}^{K}\\big[-y^{(i)}_{k}\\, log\\,(( h_\\theta\\,(x^{(i)}))_k)-(1-y^{(i)}_k)\\,log\\,(1-h_\\theta(x^{(i)}))_k)\\big]$$\n",
    "\n",
    "- K=10 이다. (0,1,2,...9) 출력값 Logistic regression\n",
    "따라서 참 값은 1열에 0,1,2,3와 같이 정수로 적혀있는 Label 데이터를 cost 계산을 위해서 vector로 표현 해야 한다."
   ]
  },
  {
   "cell_type": "markdown",
   "metadata": {},
   "source": [
    "![](https://camo.githubusercontent.com/fb7b2d0b32d1b53b2d625de480925d06789e8dd1/687474703a2f2f692e696d6775722e636f6d2f4e77584f4a4e4e2e6a7067)"
   ]
  },
  {
   "cell_type": "markdown",
   "metadata": {},
   "source": [
    "**Regularized Cost Function**\n",
    "$$J(\\theta) = \\frac{1}{m}\\sum_{i=1}^{m=5000}\\sum_{k=1}^{K=10}\\bigg[-y^{(i)}_{k}\\, log\\,(( h_\\theta\\,(x^{(i)}))_k)-(1-y^{(i)}_k)\\,log\\,(1-h_\\theta(x^{(i)}))_k)\\bigg] + \\frac{\\lambda}{2m}\\bigg[\\sum_{j=1}^{25}\\sum_{k=1}^{400}(\\Theta_{j,k}^{(1)})^2+\\sum_{j=1}^{10}\\sum_{k=1}^{25}(\\Theta_{j,k}^{(2)})^2\\bigg]$$"
   ]
  },
  {
   "cell_type": "code",
   "execution_count": 17,
   "metadata": {
    "collapsed": true
   },
   "outputs": [],
   "source": [
    "def computeCost(mythetas_flattened, myX_flattened, myy, mylambda=0.):\n",
    "    \"\"\"\n",
    "    인풋 1) bias를 포함하는 theta 모음 \n",
    "         2) training X를 입력 받는다.\n",
    "         3) labeled vector y는 one column 이다.\n",
    "         \n",
    "    Linear algebra version은 꽤 복잡하다.\n",
    "    아래는 그냥 loop를 이용한 방법이다.\n",
    "        1) y vector는 10 row에 1 column을 가지고 있다.\n",
    "        2) 주어진 training point에 대한 y vector와의 cost를 계산 한다.\n",
    "        3) 모든 코스트를 누적한다.\n",
    "        4) regularization은 loop를 모두 다 수행한 후에 한다.\n",
    "    \"\"\"\n",
    "    # First unroll the parameters\n",
    "    mythetas = reshapeParams(mythetas_flattened)\n",
    "    \n",
    "    # Now unroll X\n",
    "    myX = reshapeX(myX_flattened)\n",
    "    \n",
    "    total_cost = 0. # training data 전부에 대한 cost를 누적하게 된다. \n",
    "    m = n_training_samples # 5000\n",
    "\n",
    "    for irow in range(m):\n",
    "        myrow = myX[irow] # 401 x 1, 1개의 입력 이미지이다. bias를 포함해서 401 이다.\n",
    "                \n",
    "        # (zs, activiation)을 각각에 레이어에 대해서 리턴한다.\n",
    "        # [-1][1]은 마지막 레이어에서의 activiation(a)을 의미 한다. \n",
    "        myhs = propagateForward(myrow,mythetas)[-1][1]\n",
    "\n",
    "        # 10x1을 저장한 `y` vector는 `1`이 하나있고 나머진 모두 `0`인 vector이다.\n",
    "        # 여기서 10번째가 1이면 이것은 digit number가 0일 때를 의미한다 (matlab과의 호환 때문)\n",
    "        # 원래 data form은 1,2,3,~10 이런식으로 저장되어 있는것을 vector에 해당하는 숫자 순서에 1인 형태로 변경 하는 것이다. \n",
    "        tmpy  = np.zeros((10,1))\n",
    "        tmpy[myy[irow]-1] = 1\n",
    "        \n",
    "        # Cost를 계산 한다 (Cross Entropy)\n",
    "        # Vectorized operation이므로 K=10으로 연산이 된것이다. \n",
    "        mycost = -tmpy.T.dot(np.log(myhs))-(1-tmpy.T).dot(np.log(1-myhs))\n",
    "     \n",
    "        # training data 1개에 대한 cost를 누적해서 더한다.\n",
    "        total_cost += mycost\n",
    "  \n",
    "    # Normalize the total_cost, cast as float (평균 Cost 계산)\n",
    "    # cumulated cost / 5000\n",
    "    total_cost = float(total_cost) / m\n",
    "    \n",
    "    # Compute the regularization term\n",
    "    total_reg = 0.\n",
    "    for mytheta in mythetas:\n",
    "        total_reg += np.sum(mytheta*mytheta) #element-wise multiplication\n",
    "    total_reg *= float(mylambda)/(2*m)\n",
    "        \n",
    "    return total_cost + total_reg\n",
    "       "
   ]
  },
  {
   "cell_type": "markdown",
   "metadata": {},
   "source": [
    "![](https://camo.githubusercontent.com/e1e638bc1cc37d2ee7465a475ffb7614eb486f0d/687474703a2f2f692e696d6775722e636f6d2f794a4a466d45582e6a7067)"
   ]
  },
  {
   "cell_type": "code",
   "execution_count": 20,
   "metadata": {
    "collapsed": false
   },
   "outputs": [],
   "source": [
    "def propagateForward(row,Thetas):\n",
    "    \"\"\"\n",
    "    입력들은 not flattened 이다.\n",
    "    row와 Thetas는 bias를 이미 포함하고 있다.\n",
    "    The output is a vector with element [0] for the hidden layer,\n",
    "    and element [1] for the output layer\n",
    "        -- Each element is a tuple of (zs, as)\n",
    "        -- where \"zs\" and \"as\" have shape (# of units in that layer, 1)\n",
    "    \n",
    "    ***The 'activations' are the same as \"h\", but this works for many layers\n",
    "    (hence a vector of thetas, not just one theta)\n",
    "    Also, \"h\" is vectorized to do all rows at once...\n",
    "    this function takes in one row at a time***\n",
    "    \"\"\"\n",
    "   \n",
    "    features = row\n",
    "    zs_as_per_layer = []\n",
    "    for i in range(len(Thetas)):  \n",
    "        Theta = Thetas[i]\n",
    "        # Theta는 (25,401) 과 (10, 26) 이렇게 2개이다.\n",
    "        # features는 입력이므로 (401,1) 이다.\n",
    "        # 첫 번째 z는 (25,1)로 연산된다.\n",
    "        # bias는 계속 1이기 때문에 forward 에서는 counting 하지 않는다. \n",
    "        # 입력은 (25 by 401) x (401 by 1) // 출력은 (25 by 1)\n",
    "        # 마지막에 구지 reshape을 해주는것은 \n",
    "        # 단순 array를 X by 1 형태의 matrix로 바꿔주기 위함이다.\n",
    "        z = Theta.dot(features).reshape((Theta.shape[0],1)) \n",
    "        #z = Theta.dot(features) # 이렇게하면 backpropagation 때 에러가 발생한다.\n",
    "        a = expit(z)\n",
    "        zs_as_per_layer.append( (z, a) )\n",
    "        \n",
    "        if i == len(Thetas)-1:\n",
    "            return np.array(zs_as_per_layer) # tuple(zs, as)을 리턴\n",
    "        \n",
    "        a = np.insert(a,0,1) #Add the bias unit\n",
    "        features = a"
   ]
  },
  {
   "cell_type": "code",
   "execution_count": 23,
   "metadata": {
    "collapsed": false,
    "scrolled": true
   },
   "outputs": [
    {
     "name": "stdout",
     "output_type": "stream",
     "text": [
      "0.287629165161\n"
     ]
    }
   ],
   "source": [
    "#Once you are done, using the loaded set of parameters Theta1 and Theta2,\n",
    "#you should see that the cost is about 0.287629\n",
    "myThetas = [ Theta1, Theta2 ]\n",
    "\n",
    "#Note I flatten the thetas vector before handing it to the computeCost routine,\n",
    "#as per the input format of the computeCost function.\n",
    "#It does the unrolling/reshaping itself\n",
    "#I also flatten the X vector, similarly\n",
    "print (computeCost(flattenParams(myThetas),flattenX(X),y))"
   ]
  },
  {
   "cell_type": "code",
   "execution_count": 24,
   "metadata": {
    "collapsed": false
   },
   "outputs": [
    {
     "name": "stdout",
     "output_type": "stream",
     "text": [
      "(25, 401)\n"
     ]
    }
   ],
   "source": [
    "mythetas = reshapeParams(flattenParams(myThetas))\n",
    "print(mythetas[0].shape)"
   ]
  },
  {
   "cell_type": "code",
   "execution_count": 25,
   "metadata": {
    "collapsed": false
   },
   "outputs": [
    {
     "name": "stdout",
     "output_type": "stream",
     "text": [
      "(10285, 1)\n",
      "5000\n"
     ]
    }
   ],
   "source": [
    "print(flattenParams(myThetas).shape)\n",
    "print(n_training_samples)"
   ]
  },
  {
   "cell_type": "code",
   "execution_count": 26,
   "metadata": {
    "collapsed": false
   },
   "outputs": [
    {
     "name": "stdout",
     "output_type": "stream",
     "text": [
      "(25, 401)\n",
      "(10, 26)\n"
     ]
    }
   ],
   "source": [
    "print(myThetas[0].shape)\n",
    "print(myThetas[1].shape)"
   ]
  },
  {
   "cell_type": "code",
   "execution_count": 27,
   "metadata": {
    "collapsed": false
   },
   "outputs": [
    {
     "data": {
      "text/plain": [
       "(401,)"
      ]
     },
     "execution_count": 27,
     "metadata": {},
     "output_type": "execute_result"
    }
   ],
   "source": [
    "X[0,:].shape"
   ]
  },
  {
   "cell_type": "code",
   "execution_count": 28,
   "metadata": {
    "collapsed": false
   },
   "outputs": [
    {
     "data": {
      "text/plain": [
       "array([[-2.93684669],\n",
       "       [-2.45058587],\n",
       "       [ 4.95510333],\n",
       "       [ 0.07492977],\n",
       "       [ 0.87241676],\n",
       "       [ 5.65014719],\n",
       "       [-4.52318577],\n",
       "       [-6.41596864],\n",
       "       [ 5.65121414],\n",
       "       [-3.87156641],\n",
       "       [-2.55955558],\n",
       "       [-3.81033274],\n",
       "       [-3.02761383],\n",
       "       [-2.9383968 ],\n",
       "       [-5.46421117],\n",
       "       [ 2.06051863],\n",
       "       [ 4.82088856],\n",
       "       [-2.23170382],\n",
       "       [ 1.71790599],\n",
       "       [ 1.37208071],\n",
       "       [-3.71293077],\n",
       "       [ 4.10936639],\n",
       "       [ 3.56635593],\n",
       "       [ 2.81388641],\n",
       "       [-2.1195223 ]])"
      ]
     },
     "execution_count": 28,
     "metadata": {},
     "output_type": "execute_result"
    }
   ],
   "source": [
    "#z = myThetas[0].dot(X[0]).reshape((myThetas[0].shape[0],1))\n",
    "z = myThetas[0].dot(X[0].reshape(401,1))\n",
    "z"
   ]
  },
  {
   "cell_type": "code",
   "execution_count": 29,
   "metadata": {
    "collapsed": false
   },
   "outputs": [
    {
     "data": {
      "text/plain": [
       "(5000, 401)"
      ]
     },
     "execution_count": 29,
     "metadata": {},
     "output_type": "execute_result"
    }
   ],
   "source": [
    "X.shape# 들어가는 입력을 한번 알아봄 "
   ]
  },
  {
   "cell_type": "code",
   "execution_count": 30,
   "metadata": {
    "collapsed": false,
    "scrolled": false
   },
   "outputs": [
    {
     "data": {
      "text/plain": [
       "array([[  1.12661530e-04],\n",
       "       [  1.74127856e-03],\n",
       "       [  2.52696959e-03],\n",
       "       [  1.84032321e-05],\n",
       "       [  9.36263860e-03],\n",
       "       [  3.99270267e-03],\n",
       "       [  5.51517524e-03],\n",
       "       [  4.01468105e-04],\n",
       "       [  6.48072305e-03],\n",
       "       [  9.95734012e-01]])"
      ]
     },
     "execution_count": 30,
     "metadata": {},
     "output_type": "execute_result"
    }
   ],
   "source": [
    "myhs = propagateForward(X[0],myThetas)[-1][1] # Last activation value 이다. \n",
    "myhs"
   ]
  },
  {
   "cell_type": "code",
   "execution_count": 32,
   "metadata": {
    "collapsed": false
   },
   "outputs": [
    {
     "data": {
      "text/plain": [
       "array([[ 0.],\n",
       "       [ 0.],\n",
       "       [ 0.],\n",
       "       [ 0.],\n",
       "       [ 0.],\n",
       "       [ 0.],\n",
       "       [ 0.],\n",
       "       [ 0.],\n",
       "       [ 0.],\n",
       "       [ 1.]])"
      ]
     },
     "execution_count": 32,
     "metadata": {},
     "output_type": "execute_result"
    }
   ],
   "source": [
    "tmpy = np.zeros((10,1))\n",
    "tmpy[y[300]-1] = 1\n",
    "tmpy"
   ]
  },
  {
   "cell_type": "code",
   "execution_count": 35,
   "metadata": {
    "collapsed": false
   },
   "outputs": [
    {
     "data": {
      "text/plain": [
       "array([[ 0.03452039]])"
      ]
     },
     "execution_count": 35,
     "metadata": {},
     "output_type": "execute_result"
    }
   ],
   "source": [
    "mycost = -tmpy.T.dot(np.log(myhs))-(1-tmpy.T).dot(np.log(1-myhs))\n",
    "mycost"
   ]
  },
  {
   "cell_type": "markdown",
   "metadata": {},
   "source": [
    "#### 1.4 Regularized cost function"
   ]
  },
  {
   "cell_type": "code",
   "execution_count": 36,
   "metadata": {
    "collapsed": false
   },
   "outputs": [
    {
     "name": "stdout",
     "output_type": "stream",
     "text": [
      "0.384487796243\n"
     ]
    }
   ],
   "source": [
    "#Once you are done, using the loaded set of parameters Theta1 and Theta2,\n",
    "#and lambda = 1, you should see that the cost is about 0.383770\n",
    "myThetas = [ Theta1, Theta2 ]\n",
    "print (computeCost(flattenParams(myThetas),flattenX(X),y,mylambda=1.))"
   ]
  },
  {
   "cell_type": "markdown",
   "metadata": {},
   "source": [
    "### 2 Backpropagation"
   ]
  },
  {
   "cell_type": "markdown",
   "metadata": {
    "collapsed": true
   },
   "source": [
    "#### 2.1 Sigmoid gradient"
   ]
  },
  {
   "cell_type": "markdown",
   "metadata": {},
   "source": [
    "![](https://camo.githubusercontent.com/89121a45bde7fbd1af2b420871113424def7eb23/687474703a2f2f692e696d6775722e636f6d2f616b65424743712e706e67)"
   ]
  },
  {
   "cell_type": "markdown",
   "metadata": {},
   "source": [
    "$$g(z) = \\frac{1}{1+e^{-z}}$$\n",
    "\n",
    "$$g'(z) = g(z)(1 - g(z))$$"
   ]
  },
  {
   "cell_type": "code",
   "execution_count": 37,
   "metadata": {
    "collapsed": true
   },
   "outputs": [],
   "source": [
    "def sigmoidGradient(z):\n",
    "    dummy = expit(z)\n",
    "    return dummy*(1-dummy)"
   ]
  },
  {
   "cell_type": "code",
   "execution_count": 38,
   "metadata": {
    "collapsed": false
   },
   "outputs": [
    {
     "name": "stdout",
     "output_type": "stream",
     "text": [
      "0.00664805667079\n",
      "0.25\n",
      "0.00664805667079\n"
     ]
    }
   ],
   "source": [
    "print(sigmoidGradient(5))\n",
    "print(sigmoidGradient(0))\n",
    "print(sigmoidGradient(-5))"
   ]
  },
  {
   "cell_type": "markdown",
   "metadata": {},
   "source": [
    "#### 2.2 Random initialization"
   ]
  },
  {
   "cell_type": "markdown",
   "metadata": {},
   "source": [
    "Weight들을 zero로 초기화 하면 `neural network`이 제대로 학습 되지 않는다.  \n",
    "모든 노드들이 매번 같은 값으로 backpropagation에 의해서 update이 되기 때문이다.  \n",
    "따라서 아래와 같이 $\\Theta^{(l)}_{ij}$의 값을 $[-\\epsilon,\\epsilon]$ 사이의 값으로 초기화 한다."
   ]
  },
  {
   "cell_type": "code",
   "execution_count": 39,
   "metadata": {
    "collapsed": false
   },
   "outputs": [],
   "source": [
    "def genRandThetas():\n",
    "    epsilon_init = 0.12\n",
    "    theta1_shape = (hidden_layer_size, input_layer_size+1)\n",
    "    theta2_shape = (output_layer_size, hidden_layer_size+1)\n",
    "    rand_thetas = [ np.random.rand( *theta1_shape ) * 2 * epsilon_init - epsilon_init, \\\n",
    "                    np.random.rand( *theta2_shape ) * 2 * epsilon_init - epsilon_init]\n",
    "    return rand_thetas"
   ]
  },
  {
   "cell_type": "markdown",
   "metadata": {},
   "source": [
    "#### 2.3 Backpropagation\n"
   ]
  },
  {
   "cell_type": "markdown",
   "metadata": {},
   "source": [
    "![](https://camo.githubusercontent.com/4217320c6888fabbb9366fa9565cfee64b5dae37/687474703a2f2f692e696d6775722e636f6d2f734a644c49375a2e6a7067)"
   ]
  },
  {
   "cell_type": "markdown",
   "metadata": {},
   "source": [
    "$$\\delta^{(l)} = ((\\Theta^{(l)})^T \\delta^{(l+1)})\\ .*\\ g'(z^{(l)})$$"
   ]
  },
  {
   "cell_type": "markdown",
   "metadata": {},
   "source": [
    "** 함수의 입력값 **  \n",
    "- mythetas_flattened <- flattenParams(myThetas), 구하고자하는 2개의 $\\theta$를 담고있다.\n",
    "- myX_flattened <- flattenX(X), 입력된 이미지값 20x20+1(bias)\n",
    "- myy <- y, 참값\n",
    "- mylambda=0. <- 정규화의 수치\n"
   ]
  },
  {
   "cell_type": "code",
   "execution_count": 40,
   "metadata": {
    "collapsed": false
   },
   "outputs": [],
   "source": [
    "def backPropagate(mythetas_flattened,myX_flattened,myy,mylambda=0.):\n",
    "    # First unroll the parameters\n",
    "    mythetas = reshapeParams(mythetas_flattened)\n",
    "    \n",
    "    # Now unroll X\n",
    "    myX = reshapeX(myX_flattened)\n",
    "\n",
    "    #Note: the Delta matrices should include the bias unit\n",
    "    #The Delta matrices have the same shape as the theta matrices\n",
    "    Delta1 = np.zeros((hidden_layer_size,input_layer_size+1))\n",
    "    Delta2 = np.zeros((output_layer_size,hidden_layer_size+1))\n",
    "\n",
    "    # Loop over the training points (rows in myX, already contain bias unit)\n",
    "    m = n_training_samples\n",
    "    for irow in range(m):\n",
    "        myrow = myX[irow]\n",
    "        a1 = myrow.reshape((input_layer_size+1,1))\n",
    "        # propagateForward returns (zs, activations) for each layer excluding the input layer\n",
    "        temp = propagateForward(myrow,mythetas)\n",
    "        z2 = temp[0][0]\n",
    "        a2 = temp[0][1]\n",
    "        z3 = temp[1][0]\n",
    "        a3 = temp[1][1]\n",
    "        tmpy = np.zeros((10,1))\n",
    "        tmpy[myy[irow]-1] = 1 # 이 부분 이해가 안됬었는데 이해가 됨. 이건 bias를 넣는 부분이 아니다. 1,2,3,4~10 값을 [0,1,0..] 형식\n",
    "        delta3 = a3 - tmpy \n",
    "        delta2 = mythetas[1].T[1:,:].dot(delta3)*sigmoidGradient(z2) # remove 0th element\n",
    "        a2 = np.insert(a2,0,1,axis=0)\n",
    "        Delta1 += delta2.dot(a1.T) #(25,1)x(1,401) = (25,401) (correct)\n",
    "        Delta2 += delta3.dot(a2.T) #(10,1)x(1,25) = (10,25) (should be 10,26)\n",
    "        \n",
    "    D1 = Delta1/float(m)\n",
    "    D2 = Delta2/float(m)\n",
    "    \n",
    "    #Regularization:\n",
    "    D1[:,1:] = D1[:,1:] + (float(mylambda)/m)*mythetas[0][:,1:]\n",
    "    D2[:,1:] = D2[:,1:] + (float(mylambda)/m)*mythetas[1][:,1:]\n",
    "    \n",
    "    return flattenParams([D1, D2]).flatten()"
   ]
  },
  {
   "cell_type": "code",
   "execution_count": 45,
   "metadata": {
    "collapsed": false
   },
   "outputs": [
    {
     "name": "stdout",
     "output_type": "stream",
     "text": [
      "(25, 401)\n",
      "(10, 26)\n",
      "1 loop, best of 1: 430 ms per loop\n"
     ]
    }
   ],
   "source": [
    "%%timeit -n1 -r1\n",
    "#Actually compute D matrices for the Thetas provided\n",
    "flattenedD1D2 = backPropagate(flattenParams(myThetas),flattenX(X),y,mylambda=0.)\n",
    "D1, D2 = reshapeParams(flattenedD1D2)\n",
    "print(D1.shape)\n",
    "print(D2.shape)"
   ]
  },
  {
   "cell_type": "markdown",
   "metadata": {},
   "source": [
    "#### 2.4 Gradient checking"
   ]
  },
  {
   "cell_type": "markdown",
   "metadata": {},
   "source": [
    "Backpropagation을 안쓰고 `Numerical computing`을 이용해서 `approximate derivative of cost function`아래와 같이 구할 수 있다.  \n",
    "\n",
    "$$\\dfrac{\\partial}{\\partial\\Theta}J(\\Theta) \\approx \\dfrac{J(\\Theta + \\epsilon) - J(\\Theta - \\epsilon)}{2\\epsilon}$$\n",
    "\n",
    "특정 $\\theta_{j}$에 대해서는 아래와 같다.\n",
    "$$\\dfrac{\\partial}{\\partial\\Theta_j}J(\\Theta) \\approx \\dfrac{J(\\Theta_1, \\dots, \\Theta_j + \\epsilon, \\dots, \\Theta_n) - J(\\Theta_1, \\dots, \\Theta_j - \\epsilon, \\dots, \\Theta_n)}{2\\epsilon}$$\n",
    "\n",
    "보통 $\\epsilon$은 $10^{-4}$정도는 해야 안정적이다. 너무 작으면 numerical problem이 생긴다.  \n",
    "하지만 이 방법은 `Backpropagation`이 잘 구현 됬는지 Debugging 용도로 쓰는 것이다.   \n",
    "연산속도가 매우 느리기 때문이다."
   ]
  },
  {
   "cell_type": "code",
   "execution_count": 46,
   "metadata": {
    "collapsed": false
   },
   "outputs": [],
   "source": [
    "def checkGradient(mythetas,myDs,myX,myy,mylambda=0.):\n",
    "    myeps = 0.0001\n",
    "    flattened = flattenParams(mythetas)\n",
    "    flattenedDs = flattenParams(myDs)\n",
    "    myX_flattened = flattenX(myX)\n",
    "    n_elems = len(flattened) \n",
    "    #Pick ten random elements, compute numerical gradient, compare to respective D's\n",
    "    for i in range(1):\n",
    "        x = int(np.random.rand()*n_elems)\n",
    "        epsvec = np.zeros((n_elems,1))\n",
    "        epsvec[x] = myeps\n",
    "        cost_high = computeCost(flattened + epsvec,myX_flattened,myy,mylambda)\n",
    "        cost_low  = computeCost(flattened - epsvec,myX_flattened,myy,mylambda)\n",
    "        mygrad = (cost_high - cost_low) / float(2*myeps)\n",
    "        print (\"Element: %d. Numerical Gradient = %f. BackProp Gradient = %f.\"%(x,mygrad,flattenedDs[x]))"
   ]
  },
  {
   "cell_type": "code",
   "execution_count": 44,
   "metadata": {
    "collapsed": false
   },
   "outputs": [
    {
     "data": {
      "text/plain": [
       "array([[  6.18712766e-05,   0.00000000e+00,   0.00000000e+00, ...,\n",
       "          9.70102410e-09,   2.85541159e-09,   0.00000000e+00],\n",
       "       [  9.38798109e-05,   0.00000000e+00,   0.00000000e+00, ...,\n",
       "          3.22774693e-08,  -1.26316319e-10,   0.00000000e+00],\n",
       "       [ -1.92593606e-04,   0.00000000e+00,   0.00000000e+00, ...,\n",
       "          7.05404498e-08,   1.41584916e-09,   0.00000000e+00],\n",
       "       ..., \n",
       "       [  6.60569302e-05,   0.00000000e+00,   0.00000000e+00, ...,\n",
       "         -1.40472252e-08,   1.94786057e-09,   0.00000000e+00],\n",
       "       [  2.90522062e-04,   0.00000000e+00,   0.00000000e+00, ...,\n",
       "          5.06149568e-07,  -5.54722494e-08,   0.00000000e+00],\n",
       "       [ -6.33753316e-05,   0.00000000e+00,   0.00000000e+00, ...,\n",
       "          5.05491848e-09,   4.46821993e-09,   0.00000000e+00]])"
      ]
     },
     "execution_count": 44,
     "metadata": {},
     "output_type": "execute_result"
    }
   ],
   "source": [
    "D1"
   ]
  },
  {
   "cell_type": "code",
   "execution_count": 48,
   "metadata": {
    "collapsed": false,
    "scrolled": true
   },
   "outputs": [
    {
     "name": "stdout",
     "output_type": "stream",
     "text": [
      "Element: 8431. Numerical Gradient = 0.000002. BackProp Gradient = 0.000002.\n",
      "1 loop, best of 1: 333 ms per loop\n"
     ]
    }
   ],
   "source": [
    "%%timeit -n1 -r1\n",
    "checkGradient(myThetas,[D1, D2],X,y)"
   ]
  },
  {
   "cell_type": "markdown",
   "metadata": {},
   "source": [
    "#### 2.5 Regularized Neural Networks"
   ]
  },
  {
   "cell_type": "markdown",
   "metadata": {
    "collapsed": false,
    "scrolled": true
   },
   "source": [
    "이미 back propagation 할 때 `Regularization term`을 입력 했다.  \n",
    "따라서 따로 구현할 것은 없다."
   ]
  },
  {
   "cell_type": "markdown",
   "metadata": {
    "collapsed": true
   },
   "source": [
    "#### 2.5 Learning parameters using fmincg"
   ]
  },
  {
   "cell_type": "markdown",
   "metadata": {},
   "source": [
    "fmin_cg함수를 이용해서 학습을 수행  \n",
    "- Minimize a function using a nonlinear conjugate gradient algorithm.\n",
    "\n",
    "장점\n",
    "- No need to manually pick α.\n",
    "- inter-loop를 돌면서 최적의 learning rate을 스스로 매번 다르게 결정한다.\n",
    "- Often faster than gradient descent.\n",
    "\n",
    "단점\n",
    "- More complex."
   ]
  },
  {
   "cell_type": "code",
   "execution_count": 49,
   "metadata": {
    "collapsed": false
   },
   "outputs": [],
   "source": [
    "#Here I will use scipy.optimize.fmin_cg\n",
    "\n",
    "def trainNN(mylambda=0.):\n",
    "    \"\"\"\n",
    "    Function that generates random initial theta matrices, optimizes them,\n",
    "    and returns a list of two re-shaped theta matrices\n",
    "    \"\"\"\n",
    "\n",
    "    randomThetas_unrolled = flattenParams(genRandThetas())\n",
    "    result = scipy.optimize.fmin_cg(computeCost, x0=randomThetas_unrolled, fprime=backPropagate, \\\n",
    "                               args=(flattenX(X),y,mylambda),maxiter=50,disp=True,full_output=True)\n",
    "    return reshapeParams(result[0])"
   ]
  },
  {
   "cell_type": "code",
   "execution_count": 51,
   "metadata": {
    "collapsed": false
   },
   "outputs": [
    {
     "name": "stdout",
     "output_type": "stream",
     "text": [
      "Warning: Maximum number of iterations has been exceeded.\n",
      "         Current function value: 0.247231\n",
      "         Iterations: 50\n",
      "         Function evaluations: 117\n",
      "         Gradient evaluations: 117\n"
     ]
    }
   ],
   "source": [
    "#Training the NN takes about ~70-80 seconds on my machine\n",
    "learned_Thetas = trainNN()"
   ]
  },
  {
   "cell_type": "markdown",
   "metadata": {
    "collapsed": true
   },
   "source": [
    "만약 제대로 구현 했다면 training accuracy는 `95.3%` 정도가 나온다.  \n",
    "Random initialization 때문에 local minimum이 약간 변동하고 1%의 변동은 있을 수 있다."
   ]
  },
  {
   "cell_type": "code",
   "execution_count": 54,
   "metadata": {
    "collapsed": false
   },
   "outputs": [],
   "source": [
    "def predictNN(row,Thetas):\n",
    "    \"\"\"\n",
    "    Function that takes a row of features, propagates them through the\n",
    "    NN, and returns the predicted integer that was hand written\n",
    "    \"\"\"\n",
    "    classes = [1,2,3,4,5,6,7,8,9,10]\n",
    "    output = propagateForward(row,Thetas)\n",
    "    #-1 means last layer, 1 means \"a\" instead of \"z\"\n",
    "    return classes[np.argmax(output[-1][1])] \n",
    "\n",
    "def computeAccuracy(myX,myThetas,myy):\n",
    "    \"\"\"\n",
    "    Function that loops over all of the rows in X (all of the handwritten images)\n",
    "    and predicts what digit is written given the thetas. Check if it's correct, and\n",
    "    compute an efficiency.\n",
    "    \"\"\"\n",
    "    n_correct, n_total = 0, myX.shape[0]\n",
    "    for irow in range(n_total):\n",
    "        if int(predictNN(myX[irow],myThetas)) == int(myy[irow]): \n",
    "            n_correct += 1\n",
    "    print (\"Training set accuracy: %0.1f%%\"%(100*(float(n_correct)/n_total)))"
   ]
  },
  {
   "cell_type": "code",
   "execution_count": 55,
   "metadata": {
    "collapsed": false,
    "scrolled": true
   },
   "outputs": [
    {
     "name": "stdout",
     "output_type": "stream",
     "text": [
      "Training set accuracy: 97.0%\n"
     ]
    }
   ],
   "source": [
    "computeAccuracy(X,learned_Thetas,y)"
   ]
  },
  {
   "cell_type": "code",
   "execution_count": 55,
   "metadata": {
    "collapsed": false
   },
   "outputs": [
    {
     "name": "stdout",
     "output_type": "stream",
     "text": [
      "Warning: Maximum number of iterations has been exceeded.\n",
      "         Current function value: 1.076550\n",
      "         Iterations: 50\n",
      "         Function evaluations: 115\n",
      "         Gradient evaluations: 115\n"
     ]
    }
   ],
   "source": [
    "#Let's see if I set lambda to 10, if I get the same thing\n",
    "learned_regularized_Thetas = trainNN(mylambda=10.)"
   ]
  },
  {
   "cell_type": "code",
   "execution_count": 71,
   "metadata": {
    "collapsed": false
   },
   "outputs": [
    {
     "name": "stdout",
     "output_type": "stream",
     "text": [
      "Training set accuracy: 93.0%\n"
     ]
    }
   ],
   "source": [
    "computeAccuracy(X,learned_regularized_Thetas,y)"
   ]
  },
  {
   "cell_type": "markdown",
   "metadata": {},
   "source": [
    "#### 2.6 잘 예측된 것과 잘못 prediction된 image 찾아 보기"
   ]
  },
  {
   "cell_type": "code",
   "execution_count": 57,
   "metadata": {
    "collapsed": false
   },
   "outputs": [
    {
     "name": "stdout",
     "output_type": "stream",
     "text": [
      "Training set accuracy: 97.0%\n"
     ]
    }
   ],
   "source": [
    "# 이미 구해진 optimal theta: myThetas\n",
    "n_correct, n_total = 0., 0.\n",
    "correct_indices = []\n",
    "incorrect_indices = []\n",
    "\n",
    "for irow in range(X.shape[0]):\n",
    "    n_total += 1\n",
    "    if predictNN(X[irow],learned_Thetas) == int(y[irow]):\n",
    "        correct_indices.append(irow)\n",
    "        n_correct += 1\n",
    "    else: incorrect_indices.append(irow) # 잘못 예측한것들을 누적 한다. \n",
    "print (\"Training set accuracy: %0.1f%%\"%(100*(n_correct/n_total)))"
   ]
  },
  {
   "cell_type": "code",
   "execution_count": 69,
   "metadata": {
    "collapsed": false
   },
   "outputs": [
    {
     "data": {
      "image/png": "[encoded data removed]",
      "text/plain": [
       "<matplotlib.figure.Figure at 0x7f9a4cf43cc0>"
      ]
     },
     "metadata": {},
     "output_type": "display_data"
    },
    {
     "data": {
      "image/png": "[encoded data removed]",
      "text/plain": [
       "<matplotlib.figure.Figure at 0x7f9a4cf736d8>"
      ]
     },
     "metadata": {},
     "output_type": "display_data"
    },
    {
     "data": {
      "image/png": "[encoded data removed]",
      "text/plain": [
       "<matplotlib.figure.Figure at 0x7f9a4cfe2ac8>"
      ]
     },
     "metadata": {},
     "output_type": "display_data"
    }
   ],
   "source": [
    "#Pick some of the images we clasified in right way\n",
    "for x in range(3):\n",
    "    i = random.choice(correct_indices)\n",
    "    fig = plt.figure(figsize=(2,2))\n",
    "    img = scipy.misc.toimage(getDatumImg(X[i]) )\n",
    "    plt.imshow(img,cmap = cm.Greys_r)\n",
    "    predicted_val = predictNN(X[i],learned_Thetas)\n",
    "    predicted_val = 0 if predicted_val == 10 else predicted_val\n",
    "    fig.suptitle('Predicted: %d'%predicted_val, fontsize=14, fontweight='bold')"
   ]
  },
  {
   "cell_type": "code",
   "execution_count": 70,
   "metadata": {
    "collapsed": false
   },
   "outputs": [
    {
     "data": {
      "image/png": "[encoded data removed]",
      "text/plain": [
       "<matplotlib.figure.Figure at 0x7f9a5275b0f0>"
      ]
     },
     "metadata": {},
     "output_type": "display_data"
    },
    {
     "data": {
      "image/png": "[encoded data removed]",
      "text/plain": [
       "<matplotlib.figure.Figure at 0x7f9a4ced9f98>"
      ]
     },
     "metadata": {},
     "output_type": "display_data"
    },
    {
     "data": {
      "image/png": "[encoded data removed]",
      "text/plain": [
       "<matplotlib.figure.Figure at 0x7f9a52a7fe48>"
      ]
     },
     "metadata": {},
     "output_type": "display_data"
    }
   ],
   "source": [
    "#Pick some of the images we got WRONG and look at them, just to see\n",
    "for x in range(3):\n",
    "    i = random.choice(incorrect_indices)\n",
    "    fig = plt.figure(figsize=(2,2))\n",
    "    img = scipy.misc.toimage(getDatumImg(X[i]) )\n",
    "    plt.imshow(img,cmap = cm.Greys_r)\n",
    "    predicted_val = predictNN(X[i],learned_Thetas)\n",
    "    predicted_val = 0 if predicted_val == 10 else predicted_val\n",
    "    fig.suptitle('Predicted: %d'%predicted_val, fontsize=14, fontweight='bold')"
   ]
  },
  {
   "cell_type": "markdown",
   "metadata": {},
   "source": [
    "### 3 Visualizing the hidden layer"
   ]
  },
  {
   "cell_type": "code",
   "execution_count": 72,
   "metadata": {
    "collapsed": false
   },
   "outputs": [],
   "source": [
    "def displayHiddenLayer(myTheta):\n",
    "    \"\"\"\n",
    "    Function that takes slices of the first Theta matrix (that goes from\n",
    "    the input layer to the hidden layer), removes the bias unit, and reshapes\n",
    "    it into a 20x20 image, and shows it\n",
    "    \"\"\"\n",
    "    #remove bias unit:\n",
    "    myTheta = myTheta[:,1:]\n",
    "    assert myTheta.shape == (25,400)\n",
    "    \n",
    "    width, height = 20, 20\n",
    "    nrows, ncols = 5, 5\n",
    "        \n",
    "    big_picture = np.zeros((height*nrows,width*ncols))\n",
    "    \n",
    "    irow, icol = 0, 0\n",
    "    for row in myTheta:\n",
    "        if icol == ncols:\n",
    "            irow += 1\n",
    "            icol  = 0\n",
    "        #add bias unit back in?\n",
    "        iimg = getDatumImg(np.insert(row,0,1))\n",
    "        big_picture[irow*height:irow*height+iimg.shape[0],icol*width:icol*width+iimg.shape[1]] = iimg\n",
    "        icol += 1\n",
    "    fig = plt.figure(figsize=(6,6))\n",
    "    img = scipy.misc.toimage( big_picture )\n",
    "    plt.imshow(img,cmap = cm.Greys_r)"
   ]
  },
  {
   "cell_type": "code",
   "execution_count": 73,
   "metadata": {
    "collapsed": false
   },
   "outputs": [
    {
     "data": {
      "image/png": "[encoded data removed]",
      "text/plain": [
       "<matplotlib.figure.Figure at 0x7fa621138cf8>"
      ]
     },
     "metadata": {},
     "output_type": "display_data"
    }
   ],
   "source": [
    "displayHiddenLayer(learned_Thetas[0])"
   ]
  }
 ],
 "metadata": {
  "kernelspec": {
   "display_name": "Python 3",
   "language": "python",
   "name": "python3"
  },
  "language_info": {
   "codemirror_mode": {
    "name": "ipython",
    "version": 3
   },
   "file_extension": ".py",
   "mimetype": "text/x-python",
   "name": "python",
   "nbconvert_exporter": "python",
   "pygments_lexer": "ipython3",
   "version": "3.5.2"
  }
 },
 "nbformat": 4,
 "nbformat_minor": 0
}
