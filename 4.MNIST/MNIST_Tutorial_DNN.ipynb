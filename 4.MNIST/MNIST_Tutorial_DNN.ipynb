{
 "cells": [
  {
   "cell_type": "markdown",
   "metadata": {},
   "source": [
    "# MNIST 데이터 셋을 이용한 손글씨 인식 Deep Nerual Network\n",
    "\n",
    "아래와 같은 딥러닝의 여러기술을 써서 정확도를 올려보는 실습이다.\n",
    "- ReLU\n",
    "- Dropout\n",
    "- Pre-training"
   ]
  },
  {
   "cell_type": "markdown",
   "metadata": {},
   "source": [
    "## 1. Softmax Logistic Regression for MNIST"
   ]
  },
  {
   "cell_type": "code",
   "execution_count": 1,
   "metadata": {
    "collapsed": true
   },
   "outputs": [],
   "source": [
    "%matplotlib inline\n",
    "import tensorflow as tf\n",
    "from tensorflow.examples.tutorials.mnist import input_data\n",
    "\n",
    "import numpy as np\n",
    "import matplotlib.pyplot as plt"
   ]
  },
  {
   "cell_type": "markdown",
   "metadata": {},
   "source": [
    "**Data 구조 조사**"
   ]
  },
  {
   "cell_type": "code",
   "execution_count": 2,
   "metadata": {
    "collapsed": false
   },
   "outputs": [
    {
     "name": "stdout",
     "output_type": "stream",
     "text": [
      "Extracting ./MNIST_DATA/train-images-idx3-ubyte.gz\n",
      "Extracting ./MNIST_DATA/train-labels-idx1-ubyte.gz\n",
      "Extracting ./MNIST_DATA/t10k-images-idx3-ubyte.gz\n",
      "Extracting ./MNIST_DATA/t10k-labels-idx1-ubyte.gz\n"
     ]
    }
   ],
   "source": [
    "mnist = input_data.read_data_sets(\"./MNIST_DATA\", one_hot=True)"
   ]
  },
  {
   "cell_type": "code",
   "execution_count": 3,
   "metadata": {
    "collapsed": false
   },
   "outputs": [
    {
     "data": {
      "text/plain": [
       "(55000, 784)"
      ]
     },
     "execution_count": 3,
     "metadata": {},
     "output_type": "execute_result"
    }
   ],
   "source": [
    "mnist.train.images.shape"
   ]
  },
  {
   "cell_type": "code",
   "execution_count": 4,
   "metadata": {
    "collapsed": false,
    "scrolled": true
   },
   "outputs": [
    {
     "data": {
      "text/plain": [
       "(10000, 784)"
      ]
     },
     "execution_count": 4,
     "metadata": {},
     "output_type": "execute_result"
    }
   ],
   "source": [
    "mnist.test.images.shape"
   ]
  },
  {
   "cell_type": "code",
   "execution_count": 5,
   "metadata": {
    "collapsed": false,
    "scrolled": false
   },
   "outputs": [
    {
     "data": {
      "image/png": "[encoded data removed]",
      "text/plain": [
       "<matplotlib.figure.Figure at 0x7f6575454a58>"
      ]
     },
     "metadata": {},
     "output_type": "display_data"
    }
   ],
   "source": [
    "plt.imshow(mnist.train.images[1,0:784].reshape(28,28), cmap=\"gray\", interpolation=\"nearest\")\n",
    "plt.show()"
   ]
  },
  {
   "cell_type": "code",
   "execution_count": 7,
   "metadata": {
    "collapsed": false
   },
   "outputs": [
    {
     "name": "stdout",
     "output_type": "stream",
     "text": [
      "Epoch: 0001 Training Error 1.176371993\n",
      "Epoch: 0002 Training Error 0.662472180\n",
      "Epoch: 0003 Training Error 0.550643496\n",
      "Epoch: 0004 Training Error 0.496794565\n",
      "Epoch: 0005 Training Error 0.463764835\n",
      "Epoch: 0006 Training Error 0.440956300\n",
      "Epoch: 0007 Training Error 0.423943600\n",
      "Epoch: 0008 Training Error 0.410669795\n",
      "Epoch: 0009 Training Error 0.399917578\n",
      "Epoch: 0010 Training Error 0.390932974\n",
      "Epoch: 0011 Training Error 0.383309034\n",
      "Epoch: 0012 Training Error 0.376794175\n",
      "Epoch: 0013 Training Error 0.371065391\n",
      "Epoch: 0014 Training Error 0.365894939\n",
      "Epoch: 0015 Training Error 0.361346892\n",
      "Epoch: 0016 Training Error 0.357277366\n",
      "Epoch: 0017 Training Error 0.353523118\n",
      "Epoch: 0018 Training Error 0.350107123\n",
      "Epoch: 0019 Training Error 0.346952044\n",
      "Epoch: 0020 Training Error 0.344147096\n",
      "Epoch: 0021 Training Error 0.341474914\n",
      "Epoch: 0022 Training Error 0.338957943\n",
      "Epoch: 0023 Training Error 0.336639262\n",
      "Epoch: 0024 Training Error 0.334422361\n",
      "Epoch: 0025 Training Error 0.332469314\n",
      "Optimization Finished!\n",
      "Testing Accuracy 0.944999933\n"
     ]
    }
   ],
   "source": [
    "learning_rate = 0.01\n",
    "training_epochs = 25\n",
    "batch_size = 100\n",
    "display_step = 1\n",
    "\n",
    "\n",
    "# tensorflow graph input\n",
    "X = tf.placeholder('float', [None, 784]) # mnist data image of shape 28 * 28 = 784\n",
    "Y = tf.placeholder('float', [None, 10]) # 0-9 digits recognition = > 10 classes\n",
    "\n",
    "# set model weights\n",
    "W = tf.Variable(tf.zeros([784, 10]))\n",
    "b = tf.Variable(tf.zeros([10]))\n",
    "\n",
    "# Our hypothesis\n",
    "activation = tf.nn.softmax(tf.matmul(X, W) + b)  # Softmax\n",
    "\n",
    "\n",
    "# Cost function: cross entropy\n",
    "cost = tf.reduce_mean(-tf.reduce_sum(Y * tf.log(activation), reduction_indices=[1]))\n",
    "\n",
    "optimizer = tf.train.GradientDescentOptimizer(learning_rate).minimize(cost)\n",
    "\n",
    "#optimizer = tf.train.AdamOptimizer(learning_rate=learning_rate).minimize(cost)  # Gradient Descen\n",
    "\n",
    "# Before starting, initialize the variables. We will `run` this first.\n",
    "init = tf.global_variables_initializer()\n",
    "\n",
    "# plot data\n",
    "training_cost = []\n",
    "\n",
    "# Launch the graph,\n",
    "with tf.Session() as sess:\n",
    "    sess.run(init)\n",
    "\n",
    "    # Training cycle\n",
    "    for epoch in range(training_epochs):\n",
    "        avg_cost = 0.\n",
    "        total_batch = int(mnist.train.num_examples/batch_size)\n",
    "\n",
    "        # Fit the line.\n",
    "        for step in range(total_batch):\n",
    "            batch_xs, batch_ys = mnist.train.next_batch(batch_size)\n",
    "            # Fit training using batch data\n",
    "\n",
    "            sess.run(optimizer, feed_dict={X: batch_xs, Y: batch_ys})\n",
    "\n",
    "            # Compute average loss\n",
    "            avg_cost += sess.run(cost, feed_dict={X: batch_xs, Y: batch_ys})/total_batch\n",
    "        # Display logs per epoch step\n",
    "        if epoch % display_step == 0:\n",
    "            print (\"Epoch:\", '%04d' %(epoch+1), \"Training Error\", \"{:.9f}\".format(avg_cost))\n",
    "            training_cost.append(avg_cost)\n",
    "    print (\"Optimization Finished!\")\n",
    "\n",
    "    # Test model\n",
    "    correct_prediction = tf.equal(tf.argmax(activation, 1), tf.argmax(Y, 1))\n",
    "    # Calculate accuracy\n",
    "    accuracy = tf.reduce_mean(tf.cast(correct_prediction, tf.float32))\n",
    "    testing_accuracy = sess.run(accuracy, feed_dict={X: mnist.test.images[:200], Y: mnist.test.labels[:200]})\n",
    "    print(\"Testing Accuracy\",\"{:.9f}\".format(testing_accuracy))\n"
   ]
  },
  {
   "cell_type": "code",
   "execution_count": 8,
   "metadata": {
    "collapsed": false
   },
   "outputs": [
    {
     "data": {
      "image/png": "[encoded data removed]",
      "text/plain": [
       "<matplotlib.figure.Figure at 0x7f6572a0ecf8>"
      ]
     },
     "metadata": {},
     "output_type": "display_data"
    }
   ],
   "source": [
    "# cost function이 Convergence (수렴)하는 것을 그래프로 그려 본다.\n",
    "def plotCost(jvec):\n",
    "    plt.figure(figsize=(6,4))\n",
    "    plt.plot(range(len(jvec)),jvec,'bo')\n",
    "    plt.grid(True)\n",
    "    plt.title(\"Convergence of Cost Function\")\n",
    "    plt.xlabel(\"Epoch\")\n",
    "    plt.ylabel(\"Cost function\")\n",
    "\n",
    "plotCost(training_cost)"
   ]
  },
  {
   "cell_type": "markdown",
   "metadata": {},
   "source": [
    "## 2. Hidden Layer for MNIST\n"
   ]
  },
  {
   "cell_type": "markdown",
   "metadata": {},
   "source": [
    "- Hidden Layer를 1개 추가한다.\n",
    "- Vanishing Gradient 문제를 막기 위해서 ReLU Activation 함수를 사용한다.\n",
    "- 초기 Weight는 `Random Normal`을 사용 한다.\n",
    "    - 주의: 모두 0으로 초기화 하면 Wegiht update가 매번 같게 일어나므로 같은 Layer의 Wegiht들이 모두 같은 값을 가진다."
   ]
  },
  {
   "cell_type": "code",
   "execution_count": 9,
   "metadata": {
    "collapsed": false
   },
   "outputs": [
    {
     "name": "stdout",
     "output_type": "stream",
     "text": [
      "Extracting ./MNIST_DATA/train-images-idx3-ubyte.gz\n",
      "Extracting ./MNIST_DATA/train-labels-idx1-ubyte.gz\n",
      "Extracting ./MNIST_DATA/t10k-images-idx3-ubyte.gz\n",
      "Extracting ./MNIST_DATA/t10k-labels-idx1-ubyte.gz\n",
      "Epoch: 0001 Training Error 36.593093674\n",
      "Epoch: 0002 Training Error 5.910121407\n",
      "Epoch: 0003 Training Error 2.620937956\n",
      "Epoch: 0004 Training Error 1.630675664\n",
      "Epoch: 0005 Training Error 1.090617501\n",
      "Epoch: 0006 Training Error 0.881382546\n",
      "Epoch: 0007 Training Error 0.655782079\n",
      "Epoch: 0008 Training Error 0.605257626\n",
      "Epoch: 0009 Training Error 0.633176358\n",
      "Epoch: 0010 Training Error 0.511586016\n",
      "Epoch: 0011 Training Error 0.400787890\n",
      "Epoch: 0012 Training Error 0.335924118\n",
      "Epoch: 0013 Training Error 0.319138830\n",
      "Epoch: 0014 Training Error 0.255448152\n",
      "Epoch: 0015 Training Error 0.236012056\n",
      "Optimization Finished!\n",
      "Testing Accuracy 0.97\n"
     ]
    }
   ],
   "source": [
    "learning_rate = 0.01\n",
    "training_epochs = 15\n",
    "batch_size = 100\n",
    "display_step = 1\n",
    "\n",
    "mnist = input_data.read_data_sets(\"./MNIST_DATA\", one_hot=True)\n",
    "# tensorflow graph input\n",
    "X = tf.placeholder('float', [None, 784]) # mnist data image of shape 28 * 28 = 784\n",
    "Y = tf.placeholder('float', [None, 10]) # 0-9 digits recognition = > 10 classes\n",
    "\n",
    "# set model weights\n",
    "W1 = tf.Variable(tf.random_normal([784, 256]))\n",
    "W2 = tf.Variable(tf.random_normal([256, 256]))\n",
    "W3 = tf.Variable(tf.random_normal([256, 10]))\n",
    "\n",
    "B1 = tf.Variable(tf.random_normal([256]))\n",
    "B2 = tf.Variable(tf.random_normal([256]))\n",
    "B3 = tf.Variable(tf.random_normal([10]))\n",
    "\n",
    "# Construct model\n",
    "L1 = tf.nn.relu(tf.add(tf.matmul(X,W1),B1))\n",
    "L2 = tf.nn.relu(tf.add(tf.matmul(L1,W2),B2)) # Hidden layer with RELU activation\n",
    "hypothesis = tf.add(tf.matmul(L2, W3), B3) # No need to use softmax here\n",
    "\n",
    "# Define loss and optimizer\n",
    "cost = tf.reduce_mean(tf.nn.softmax_cross_entropy_with_logits(hypothesis, Y)) # Softmax loss\n",
    "optimizer = tf.train.AdamOptimizer(learning_rate=learning_rate).minimize(cost) # Adam Optimizer\n",
    "\n",
    "# Initializing the variables\n",
    "init = tf.global_variables_initializer()\n",
    "\n",
    "# Launch the graph,\n",
    "with tf.Session() as sess:\n",
    "    sess.run(init)\n",
    "\n",
    "    # Training cycle\n",
    "    for epoch in range(training_epochs):\n",
    "        avg_cost = 0.\n",
    "        total_batch = int(mnist.train.num_examples/batch_size)\n",
    "\n",
    "        # Fit the line.\n",
    "        for step in range(total_batch):\n",
    "            batch_xs, batch_ys = mnist.train.next_batch(batch_size)\n",
    "\n",
    "            # Fit training using batch data\n",
    "\n",
    "            sess.run(optimizer, feed_dict={X: batch_xs, Y: batch_ys})\n",
    "\n",
    "            # Compute average loss\n",
    "            avg_cost += sess.run(cost, feed_dict={X: batch_xs, Y: batch_ys})/total_batch\n",
    "        # Display logs per epoch step\n",
    "        if epoch % display_step == 0:\n",
    "            print (\"Epoch:\", '%04d' %(epoch+1), \"Training Error\", \"{:.9f}\".format(avg_cost))\n",
    "\n",
    "    print (\"Optimization Finished!\")\n",
    "\n",
    "    # Test model\n",
    "    correct_prediction = tf.equal(tf.argmax(hypothesis, 1), tf.argmax(Y, 1))\n",
    "    # Calculate accuracy\n",
    "    accuracy = tf.reduce_mean(tf.cast(correct_prediction, \"float\"))\n",
    "    print (\"Testing Accuracy\", accuracy.eval({X: mnist.test.images[:200], Y: mnist.test.labels[:200]}))"
   ]
  },
  {
   "cell_type": "markdown",
   "metadata": {},
   "source": [
    "## 3. Weight Initialization\n",
    "- 최종 정확도는 큰 차이는 없지만 초기에 Cost 값이 매우 낮은것을 알 수 있다.\n",
    "- converge 하는 시간을 줄일 수 있으며, 복잡한 Neural Net.을 성공적으로 학습 시킬 수 있는 가능성을 높인다. "
   ]
  },
  {
   "cell_type": "code",
   "execution_count": 3,
   "metadata": {
    "collapsed": true
   },
   "outputs": [],
   "source": [
    "def xavier_initializer(n_inputs, n_outputs, uniform = True):\n",
    "    if uniform:\n",
    "        init_range = tf.sqrt(6.0/ (n_inputs + n_outputs))\n",
    "        return tf.random_uniform_initializer(-init_range, init_range)\n",
    "\n",
    "    else:\n",
    "        stddev = tf.sqrt(3.0 / (n_inputs + n_outputs))\n",
    "        return tf.truncated_normal_initializer(stddev=stddev)"
   ]
  },
  {
   "cell_type": "code",
   "execution_count": 3,
   "metadata": {
    "collapsed": false
   },
   "outputs": [
    {
     "name": "stdout",
     "output_type": "stream",
     "text": [
      "Extracting ./MNIST_DATA/train-images-idx3-ubyte.gz\n",
      "Extracting ./MNIST_DATA/train-labels-idx1-ubyte.gz\n",
      "Extracting ./MNIST_DATA/t10k-images-idx3-ubyte.gz\n",
      "Extracting ./MNIST_DATA/t10k-labels-idx1-ubyte.gz\n",
      "Epoch: 0001 Training Error 0.200549736\n",
      "Epoch: 0002 Training Error 0.095795567\n",
      "Epoch: 0003 Training Error 0.075184118\n",
      "Epoch: 0004 Training Error 0.063282279\n",
      "Epoch: 0005 Training Error 0.055429216\n",
      "Epoch: 0006 Training Error 0.054017108\n",
      "Epoch: 0007 Training Error 0.051417416\n",
      "Epoch: 0008 Training Error 0.044381755\n",
      "Epoch: 0009 Training Error 0.039349482\n",
      "Epoch: 0010 Training Error 0.042907008\n",
      "Epoch: 0011 Training Error 0.040326667\n",
      "Epoch: 0012 Training Error 0.034777870\n",
      "Epoch: 0013 Training Error 0.037590372\n",
      "Epoch: 0014 Training Error 0.035894262\n",
      "Epoch: 0015 Training Error 0.033769305\n",
      "Optimization Finished!\n",
      "Testing Accuracy 0.98\n"
     ]
    }
   ],
   "source": [
    "def xavier_initializer(n_inputs, n_outputs, uniform = True):\n",
    "    if uniform:\n",
    "        init_range = tf.sqrt(6.0/ (n_inputs + n_outputs))\n",
    "        return tf.random_uniform_initializer(-init_range, init_range)\n",
    "\n",
    "    else:\n",
    "        stddev = tf.sqrt(3.0 / (n_inputs + n_outputs))\n",
    "        return tf.truncated_normal_initializer(stddev=stddev)\n",
    "\n",
    "learning_rate = 0.01\n",
    "training_epochs = 15\n",
    "batch_size = 100\n",
    "display_step = 1\n",
    "\n",
    "mnist = input_data.read_data_sets(\"./MNIST_DATA\", one_hot=True)\n",
    "# tensorflow graph input\n",
    "X = tf.placeholder('float', [None, 784]) # mnist data image of shape 28 * 28 = 784\n",
    "Y = tf.placeholder('float', [None, 10]) # 0-9 digits recognition = > 10 classes\n",
    "\n",
    "# set model weights\n",
    "W_1 = tf.get_variable(\"W_1\", shape=[784, 256], initializer=xavier_initializer(784, 256))\n",
    "W_2 = tf.get_variable(\"W_2\", shape=[256, 256], initializer=xavier_initializer(256, 256))\n",
    "W_3 = tf.get_variable(\"W_3\", shape=[256, 10], initializer=xavier_initializer(256, 10))\n",
    "\n",
    "\n",
    "B1 = tf.Variable(tf.zeros([256]))\n",
    "B2 = tf.Variable(tf.zeros([256]))\n",
    "B3 = tf.Variable(tf.zeros([10]))\n",
    "\n",
    "# Construct model\n",
    "L1 = tf.nn.relu(tf.add(tf.matmul(X,W_1),B1))\n",
    "L2 = tf.nn.relu(tf.add(tf.matmul(L1,W_2),B2)) # Hidden layer with RELU activation\n",
    "hypothesis = tf.add(tf.matmul(L2, W_3), B3) # No need to use softmax here\n",
    "\n",
    "# Define loss and optimizer\n",
    "cost = tf.reduce_mean(tf.nn.softmax_cross_entropy_with_logits(hypothesis, Y)) # Softmax loss\n",
    "optimizer = tf.train.AdamOptimizer(learning_rate=learning_rate).minimize(cost) # Adam Optimizer\n",
    "\n",
    "# Initializing the variables\n",
    "init = tf.global_variables_initializer()\n",
    "\n",
    "# Launch the graph,\n",
    "with tf.Session() as sess:\n",
    "    sess.run(init)\n",
    "\n",
    "    # Training cycle\n",
    "    for epoch in range(training_epochs):\n",
    "        avg_cost = 0.\n",
    "        total_batch = int(mnist.train.num_examples/batch_size)\n",
    "\n",
    "        # Fit the line.\n",
    "        for step in range(total_batch):\n",
    "            batch_xs, batch_ys = mnist.train.next_batch(batch_size)\n",
    "\n",
    "            # Fit training using batch data\n",
    "\n",
    "            sess.run(optimizer, feed_dict={X: batch_xs, Y: batch_ys})\n",
    "\n",
    "            # Compute average loss\n",
    "            avg_cost += sess.run(cost, feed_dict={X: batch_xs, Y: batch_ys})/total_batch\n",
    "        # Display logs per epoch step\n",
    "        if epoch % display_step == 0:\n",
    "            print (\"Epoch:\", '%04d' %(epoch+1), \"Training Error\", \"{:.9f}\".format(avg_cost))\n",
    "\n",
    "    print (\"Optimization Finished!\")\n",
    "\n",
    "    # Test model\n",
    "    correct_prediction = tf.equal(tf.argmax(hypothesis, 1), tf.argmax(Y, 1))\n",
    "    # Calculate accuracy\n",
    "    accuracy = tf.reduce_mean(tf.cast(correct_prediction, \"float\"))\n",
    "    print (\"Testing Accuracy\", accuracy.eval({X: mnist.test.images[:200], Y: mnist.test.labels[:200]}))\n"
   ]
  },
  {
   "cell_type": "markdown",
   "metadata": {},
   "source": [
    "## 4. Five-Layer Neural Net. with Dropout"
   ]
  },
  {
   "cell_type": "code",
   "execution_count": 4,
   "metadata": {
    "collapsed": false
   },
   "outputs": [
    {
     "name": "stdout",
     "output_type": "stream",
     "text": [
      "Extracting ./MNIST_DATA/train-images-idx3-ubyte.gz\n",
      "Extracting ./MNIST_DATA/train-labels-idx1-ubyte.gz\n",
      "Extracting ./MNIST_DATA/t10k-images-idx3-ubyte.gz\n",
      "Extracting ./MNIST_DATA/t10k-labels-idx1-ubyte.gz\n",
      "Epoch: 0001 Training Error 0.572801369\n",
      "Epoch: 0002 Training Error 0.212843532\n",
      "Epoch: 0003 Training Error 0.157949915\n",
      "Epoch: 0004 Training Error 0.132224367\n",
      "Epoch: 0005 Training Error 0.114936732\n",
      "Epoch: 0006 Training Error 0.104187991\n",
      "Epoch: 0007 Training Error 0.093045380\n",
      "Epoch: 0008 Training Error 0.083886789\n",
      "Epoch: 0009 Training Error 0.081845350\n",
      "Epoch: 0010 Training Error 0.074718143\n",
      "Epoch: 0011 Training Error 0.071650755\n",
      "Epoch: 0012 Training Error 0.063617854\n",
      "Epoch: 0013 Training Error 0.061668005\n",
      "Epoch: 0014 Training Error 0.060254831\n",
      "Epoch: 0015 Training Error 0.055920724\n",
      "Epoch: 0016 Training Error 0.055071080\n",
      "Epoch: 0017 Training Error 0.049940468\n",
      "Epoch: 0018 Training Error 0.049623315\n",
      "Epoch: 0019 Training Error 0.049239787\n",
      "Epoch: 0020 Training Error 0.047966716\n",
      "Epoch: 0021 Training Error 0.048585212\n",
      "Epoch: 0022 Training Error 0.045413566\n",
      "Epoch: 0023 Training Error 0.042845043\n",
      "Epoch: 0024 Training Error 0.040527959\n",
      "Epoch: 0025 Training Error 0.041139369\n",
      "Optimization Finished!\n",
      "Testing Accuracy 0.995\n"
     ]
    }
   ],
   "source": [
    "learning_rate = 0.001\n",
    "training_epochs = 25\n",
    "batch_size = 100\n",
    "display_step = 1\n",
    "\n",
    "mnist = input_data.read_data_sets(\"./MNIST_DATA\", one_hot=True)\n",
    "# tensorflow graph input\n",
    "X = tf.placeholder('float', [None, 784]) # mnist data image of shape 28 * 28 = 784\n",
    "Y = tf.placeholder('float', [None, 10]) # 0-9 digits recognition = > 10 classes\n",
    "\n",
    "# set dropout rate\n",
    "dropout_rate = tf.placeholder(\"float\")\n",
    "\n",
    "# set model weights\n",
    "W__1 = tf.get_variable(\"W__1\", shape=[784, 256], initializer=xavier_initializer(784, 256))\n",
    "W__2 = tf.get_variable(\"W__2\", shape=[256, 256], initializer=xavier_initializer(256, 256))\n",
    "W__3 = tf.get_variable(\"W__3\", shape=[256, 256], initializer=xavier_initializer(256, 256))\n",
    "W__4 = tf.get_variable(\"W__4\", shape=[256, 256], initializer=xavier_initializer(256, 256))\n",
    "W__5 = tf.get_variable(\"W__5\", shape=[256, 10], initializer=xavier_initializer(256, 10))\n",
    "\n",
    "B1 = tf.Variable(tf.random_normal([256]))\n",
    "B2 = tf.Variable(tf.random_normal([256]))\n",
    "B3 = tf.Variable(tf.random_normal([256]))\n",
    "B4 = tf.Variable(tf.random_normal([256]))\n",
    "B5 = tf.Variable(tf.random_normal([10]))\n",
    "\n",
    "# Construct model\n",
    "_L1 = tf.nn.relu(tf.add(tf.matmul(X,W__1),B1))\n",
    "L1 = tf.nn.dropout(_L1, dropout_rate)\n",
    "_L2 = tf.nn.relu(tf.add(tf.matmul(L1, W__2),B2)) # Hidden layer with ReLU activation\n",
    "L2 = tf.nn.dropout(_L2, dropout_rate)\n",
    "_L3 = tf.nn.relu(tf.add(tf.matmul(L2, W__3),B3)) # Hidden layer with ReLU activation\n",
    "L3 = tf.nn.dropout(_L3, dropout_rate)\n",
    "_L4 = tf.nn.relu(tf.add(tf.matmul(L3, W__4),B4)) # Hidden layer with ReLU activation\n",
    "L4 = tf.nn.dropout(_L4, dropout_rate)\n",
    "\n",
    "hypothesis = tf.add(tf.matmul(L4, W__5), B5) # No need to use softmax here\n",
    "\n",
    "# Define loss and optimizer\n",
    "cost = tf.reduce_mean(tf.nn.softmax_cross_entropy_with_logits(hypothesis, Y)) # Softmax loss\n",
    "optimizer = tf.train.AdamOptimizer(learning_rate=learning_rate).minimize(cost) # Adam Optimizer\n",
    "\n",
    "# Initializing the variables\n",
    "init = tf.global_variables_initializer()\n",
    "\n",
    "# Launch the graph,\n",
    "with tf.Session() as sess:\n",
    "    sess.run(init)\n",
    "\n",
    "    # Training cycle\n",
    "    for epoch in range(training_epochs):\n",
    "        avg_cost = 0.\n",
    "        total_batch = int(mnist.train.num_examples/batch_size)\n",
    "\n",
    "        # Fit the line.\n",
    "        for step in range(total_batch):\n",
    "            batch_xs, batch_ys = mnist.train.next_batch(batch_size)\n",
    "\n",
    "            # Fit training using batch data\n",
    "            # set up 0.7 for training time\n",
    "            sess.run(optimizer, feed_dict={X: batch_xs, Y: batch_ys, dropout_rate: 0.7})\n",
    "\n",
    "            # Compute average loss\n",
    "            avg_cost += sess.run(cost, feed_dict={X: batch_xs, Y: batch_ys, dropout_rate: 0.7})/total_batch\n",
    "        # Display logs per epoch step\n",
    "        if epoch % display_step == 0:\n",
    "            print(\"Epoch:\", '%04d' %(epoch+1), \"Training Error\", \"{:.9f}\".format(avg_cost))\n",
    "\n",
    "    print(\"Optimization Finished!\")\n",
    "\n",
    "    # Test model\n",
    "    correct_prediction = tf.equal(tf.argmax(hypothesis, 1), tf.argmax(Y, 1))\n",
    "    # Calculate accuracy\n",
    "    accuracy = tf.reduce_mean(tf.cast(correct_prediction, \"float\"))\n",
    "    print (\"Testing Accuracy\", accuracy.eval({X: mnist.test.images[:200], Y: mnist.test.labels[:200], dropout_rate: 1}))"
   ]
  },
  {
   "cell_type": "code",
   "execution_count": null,
   "metadata": {
    "collapsed": true
   },
   "outputs": [],
   "source": []
  }
 ],
 "metadata": {
  "kernelspec": {
   "display_name": "Python 3",
   "language": "python",
   "name": "python3"
  },
  "language_info": {
   "codemirror_mode": {
    "name": "ipython",
    "version": 3
   },
   "file_extension": ".py",
   "mimetype": "text/x-python",
   "name": "python",
   "nbconvert_exporter": "python",
   "pygments_lexer": "ipython3",
   "version": "3.5.2"
  }
 },
 "nbformat": 4,
 "nbformat_minor": 2
}
